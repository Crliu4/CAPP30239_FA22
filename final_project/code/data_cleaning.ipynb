{
 "cells": [
  {
   "cell_type": "code",
   "execution_count": 1,
   "metadata": {},
   "outputs": [],
   "source": [
    "import pandas as pd\n",
    "from colorthief import ColorThief\n",
    "import io\n",
    "import urllib\n",
    "import os\n",
    "import re\n",
    "import colorgram\n",
    "import numpy as np"
   ]
  },
  {
   "cell_type": "code",
   "execution_count": 2,
   "metadata": {},
   "outputs": [],
   "source": [
    "# import raw data\n",
    "artist = pd.read_csv('../raw_data/artist_data.csv')\n",
    "artwork = pd.read_csv('../raw_data/artwork_data.csv', dtype={'creditLine': str, 'height': str, 'year': str})"
   ]
  },
  {
   "cell_type": "code",
   "execution_count": 3,
   "metadata": {},
   "outputs": [],
   "source": [
    "# graph 1: # artists artwork, gender in Tate collection\n",
    "# maybe for future: age @ first Tate acquisition?\n",
    "\n",
    "# merge artist and artwork on artist id\n",
    "artists_artwork = artist.merge(artwork, 'left', left_on = 'id', right_on = 'artistId')\n",
    "aa_counts = artists_artwork.groupby('id_x')['name'].count()\n",
    "aa_counts = aa_counts.to_frame().rename(columns = {'name': 'artwork_count'}).reset_index()\n",
    "\n",
    "# merge in gender\n",
    "aa_counts = aa_counts.merge(artist, left_on='id_x', right_on='id')\n",
    "aa_counts = aa_counts[['id', 'name', 'artwork_count', 'gender']]\n",
    "\n",
    "# # save to csv\n",
    "# aa_counts.to_csv('../cleaned_data/aa_counts.csv')"
   ]
  },
  {
   "cell_type": "code",
   "execution_count": 4,
   "metadata": {},
   "outputs": [],
   "source": [
    "# graph 1: artists artwork (1 each)\n",
    "def get_pics1(row):\n",
    "    ''' \n",
    "    Takes row of dataframe & downloads image from url\n",
    "    '''\n",
    "    id, _, _, _, _, url = row\n",
    "    print(id)\n",
    "    if type(url) == str:\n",
    "        urllib.request.urlretrieve(url, f'/Users/carolynliu/CAPP30239_FA22/final_project/pics1/{id}.jpg')"
   ]
  },
  {
   "cell_type": "code",
   "execution_count": 5,
   "metadata": {},
   "outputs": [],
   "source": [
    "# graph 1 get pics\n",
    "df = pd.read_csv('../raw_data/the-tate-collection.csv', sep=';')\n",
    "df = df[['artistId', 'thumbnailUrl']]\n",
    "df.drop_duplicates('artistId', inplace=True)\n",
    "\n",
    "df1 = aa_counts.merge(df, left_on='id', right_on='artistId')\n",
    "# df1.apply(lambda x: get_pics1(x), axis = 1)"
   ]
  },
  {
   "cell_type": "code",
   "execution_count": 6,
   "metadata": {},
   "outputs": [
    {
     "data": {
      "text/html": [
       "<div>\n",
       "<style scoped>\n",
       "    .dataframe tbody tr th:only-of-type {\n",
       "        vertical-align: middle;\n",
       "    }\n",
       "\n",
       "    .dataframe tbody tr th {\n",
       "        vertical-align: top;\n",
       "    }\n",
       "\n",
       "    .dataframe thead th {\n",
       "        text-align: right;\n",
       "    }\n",
       "</style>\n",
       "<table border=\"1\" class=\"dataframe\">\n",
       "  <thead>\n",
       "    <tr style=\"text-align: right;\">\n",
       "      <th></th>\n",
       "      <th>id</th>\n",
       "      <th>name</th>\n",
       "      <th>artwork_count</th>\n",
       "      <th>gender</th>\n",
       "      <th>artistId</th>\n",
       "      <th>thumbnailUrl</th>\n",
       "    </tr>\n",
       "  </thead>\n",
       "  <tbody>\n",
       "    <tr>\n",
       "      <th>0</th>\n",
       "      <td>0</td>\n",
       "      <td>Abbey, Edwin Austin</td>\n",
       "      <td>6</td>\n",
       "      <td>Male</td>\n",
       "      <td>0</td>\n",
       "      <td>https://public.opendatasoft.com/api/v2/catalog...</td>\n",
       "    </tr>\n",
       "    <tr>\n",
       "      <th>1</th>\n",
       "      <td>1</td>\n",
       "      <td>Abbott, Lemuel Francis</td>\n",
       "      <td>2</td>\n",
       "      <td>Male</td>\n",
       "      <td>1</td>\n",
       "      <td>https://public.opendatasoft.com/api/v2/catalog...</td>\n",
       "    </tr>\n",
       "    <tr>\n",
       "      <th>2</th>\n",
       "      <td>2</td>\n",
       "      <td>Agasse, Jacques Laurent</td>\n",
       "      <td>2</td>\n",
       "      <td>Male</td>\n",
       "      <td>2</td>\n",
       "      <td>https://public.opendatasoft.com/api/v2/catalog...</td>\n",
       "    </tr>\n",
       "    <tr>\n",
       "      <th>3</th>\n",
       "      <td>3</td>\n",
       "      <td>Alken, Henry Thomas</td>\n",
       "      <td>5</td>\n",
       "      <td>Male</td>\n",
       "      <td>3</td>\n",
       "      <td>https://public.opendatasoft.com/api/v2/catalog...</td>\n",
       "    </tr>\n",
       "    <tr>\n",
       "      <th>4</th>\n",
       "      <td>4</td>\n",
       "      <td>Allan, Sir William</td>\n",
       "      <td>1</td>\n",
       "      <td>Male</td>\n",
       "      <td>4</td>\n",
       "      <td>https://public.opendatasoft.com/api/v2/catalog...</td>\n",
       "    </tr>\n",
       "    <tr>\n",
       "      <th>...</th>\n",
       "      <td>...</td>\n",
       "      <td>...</td>\n",
       "      <td>...</td>\n",
       "      <td>...</td>\n",
       "      <td>...</td>\n",
       "      <td>...</td>\n",
       "    </tr>\n",
       "    <tr>\n",
       "      <th>3333</th>\n",
       "      <td>17412</td>\n",
       "      <td>Whitten, Jack</td>\n",
       "      <td>1</td>\n",
       "      <td>Male</td>\n",
       "      <td>17412</td>\n",
       "      <td>NaN</td>\n",
       "    </tr>\n",
       "    <tr>\n",
       "      <th>3334</th>\n",
       "      <td>17414</td>\n",
       "      <td>Fukushima, Hideko</td>\n",
       "      <td>1</td>\n",
       "      <td>Female</td>\n",
       "      <td>17414</td>\n",
       "      <td>https://public.opendatasoft.com/api/v2/catalog...</td>\n",
       "    </tr>\n",
       "    <tr>\n",
       "      <th>3335</th>\n",
       "      <td>17422</td>\n",
       "      <td>Wylie, Rose</td>\n",
       "      <td>1</td>\n",
       "      <td>Female</td>\n",
       "      <td>17422</td>\n",
       "      <td>NaN</td>\n",
       "    </tr>\n",
       "    <tr>\n",
       "      <th>3336</th>\n",
       "      <td>17450</td>\n",
       "      <td>Crozier, William</td>\n",
       "      <td>1</td>\n",
       "      <td>Male</td>\n",
       "      <td>17450</td>\n",
       "      <td>NaN</td>\n",
       "    </tr>\n",
       "    <tr>\n",
       "      <th>3337</th>\n",
       "      <td>17882</td>\n",
       "      <td>Nicholson, Isaac</td>\n",
       "      <td>1</td>\n",
       "      <td>Male</td>\n",
       "      <td>17882</td>\n",
       "      <td>https://public.opendatasoft.com/api/v2/catalog...</td>\n",
       "    </tr>\n",
       "  </tbody>\n",
       "</table>\n",
       "<p>3338 rows × 6 columns</p>\n",
       "</div>"
      ],
      "text/plain": [
       "         id                     name  artwork_count  gender  artistId  \\\n",
       "0         0      Abbey, Edwin Austin              6    Male         0   \n",
       "1         1   Abbott, Lemuel Francis              2    Male         1   \n",
       "2         2  Agasse, Jacques Laurent              2    Male         2   \n",
       "3         3      Alken, Henry Thomas              5    Male         3   \n",
       "4         4       Allan, Sir William              1    Male         4   \n",
       "...     ...                      ...            ...     ...       ...   \n",
       "3333  17412            Whitten, Jack              1    Male     17412   \n",
       "3334  17414        Fukushima, Hideko              1  Female     17414   \n",
       "3335  17422              Wylie, Rose              1  Female     17422   \n",
       "3336  17450         Crozier, William              1    Male     17450   \n",
       "3337  17882         Nicholson, Isaac              1    Male     17882   \n",
       "\n",
       "                                           thumbnailUrl  \n",
       "0     https://public.opendatasoft.com/api/v2/catalog...  \n",
       "1     https://public.opendatasoft.com/api/v2/catalog...  \n",
       "2     https://public.opendatasoft.com/api/v2/catalog...  \n",
       "3     https://public.opendatasoft.com/api/v2/catalog...  \n",
       "4     https://public.opendatasoft.com/api/v2/catalog...  \n",
       "...                                                 ...  \n",
       "3333                                                NaN  \n",
       "3334  https://public.opendatasoft.com/api/v2/catalog...  \n",
       "3335                                                NaN  \n",
       "3336                                                NaN  \n",
       "3337  https://public.opendatasoft.com/api/v2/catalog...  \n",
       "\n",
       "[3338 rows x 6 columns]"
      ]
     },
     "execution_count": 6,
     "metadata": {},
     "output_type": "execute_result"
    }
   ],
   "source": [
    "df1"
   ]
  },
  {
   "cell_type": "code",
   "execution_count": 7,
   "metadata": {},
   "outputs": [],
   "source": [
    "df1['img'] = df1.apply(lambda x: '' if type(x['thumbnailUrl'])==float else f'../pics1/{x[\"id\"]}.jpg', axis = 1)\n",
    "df1.drop(['artistId', 'thumbnailUrl'], axis = 1, inplace=True)\n",
    "df1['parent'] = 'parent'\n",
    "df1['color'] = df1.apply(lambda x: '#FF7133' if x['gender']=='Female' else '#33B5FF', axis = 1)\n",
    "df1.to_csv('../cleaned_data/aa_counts_url.csv')"
   ]
  },
  {
   "cell_type": "code",
   "execution_count": null,
   "metadata": {},
   "outputs": [],
   "source": [
    "df1"
   ]
  },
  {
   "cell_type": "code",
   "execution_count": 8,
   "metadata": {},
   "outputs": [],
   "source": [
    "# graph 2: # Tate acquisition over time & medium?\n",
    "\n",
    "acquisitions = artwork.groupby(['acquisitionYear'])['acquisitionYear'].count()\n",
    "acquisitions = acquisitions.to_frame().rename(columns = {'acquisitionYear': 'ac_count'}).reset_index()\n",
    "\n",
    "# most popular medium by acquisition year\n",
    "medium = artwork.groupby(['acquisitionYear', 'medium'])['medium'].count()\n",
    "medium = medium.to_frame().rename(columns = {'medium': 'med_count'}).reset_index()\n",
    "medium = medium.groupby('acquisitionYear', group_keys=False).apply(lambda x: x.loc[x.med_count.idxmax()]).reset_index(drop=True)\n",
    "\n",
    "# merge acquisitions and medium\n",
    "ac_med = acquisitions.merge(medium)\n",
    "ac_med['year'] = ac_med['acquisitionYear'].astype(int).astype(str)\n",
    "#save to csv\n",
    "ac_med.to_csv('../cleaned_data/ac_med.csv')"
   ]
  },
  {
   "cell_type": "code",
   "execution_count": null,
   "metadata": {},
   "outputs": [],
   "source": [
    "# graph 3 - colors\n",
    "# keep only watercolors\n",
    "wc = artwork[artwork['medium'].str.contains(\"watercolour\", case = False, na=False)]\n",
    "wc.to_csv('../raw_data/watercolours.csv')"
   ]
  },
  {
   "cell_type": "code",
   "execution_count": null,
   "metadata": {},
   "outputs": [],
   "source": [
    "# data for artwork thumbnails from opendatasoft - https://public.opendatasoft.com/explore/dataset/the-tate-collection/table/\n",
    "df = pd.read_csv('../raw_data/the-tate-collection-3.csv', sep=';')\n",
    "df = df[['accession_number', 'thumbnailUrl']]"
   ]
  },
  {
   "cell_type": "code",
   "execution_count": null,
   "metadata": {},
   "outputs": [],
   "source": [
    "#merge w/ watercolors\n",
    "wc1 = wc.merge(df, on = 'accession_number')\n",
    "wc2 = wc1[['accession_number', 'thumbnailUrl_y']]\n",
    "wc2.dropna(inplace=True)"
   ]
  },
  {
   "cell_type": "code",
   "execution_count": null,
   "metadata": {},
   "outputs": [],
   "source": [
    "url = 'https://public.opendatasoft.com/api/v2/catalog/datasets/the-tate-collection/files/3fa7321cc3eac4b92b2409fcf5c207a4'\n",
    "urllib.request.urlretrieve(url, f'/Users/carolynliu/CAPP30239_FA22/final_project/pics/test.jpg')"
   ]
  },
  {
   "cell_type": "code",
   "execution_count": null,
   "metadata": {},
   "outputs": [],
   "source": [
    "def get_pics(row):\n",
    "    ''' \n",
    "    Takes row of dataframe & downloads image from url\n",
    "    '''\n",
    "    num, url = row\n",
    "    print(num)\n",
    "    urllib.request.urlretrieve(url, f'/Users/carolynliu/CAPP30239_FA22/final_project/pics/{num}.jpg')"
   ]
  },
  {
   "cell_type": "code",
   "execution_count": null,
   "metadata": {},
   "outputs": [],
   "source": [
    "wc2.apply(lambda x: get_pics(x), axis = 1)\n",
    "# got thru D01659"
   ]
  },
  {
   "cell_type": "code",
   "execution_count": null,
   "metadata": {},
   "outputs": [],
   "source": [
    "# take out rows already have images for & download images\n",
    "wc3 = wc2.loc[wc2.loc[wc2['accession_number'] == 'D01660'].index[0]: ,]\n",
    "wc3.apply(lambda x: get_pics(x), axis = 1)"
   ]
  },
  {
   "cell_type": "code",
   "execution_count": null,
   "metadata": {},
   "outputs": [],
   "source": [
    "# Get dominant (color thief) color for watercolor artworks\n",
    "dir = '/Users/carolynliu/CAPP30239_FA22/final_project/pics'\n",
    "colors = {}\n",
    "for filename in os.listdir(dir):\n",
    "    exp = re.compile(\".jpg\")\n",
    "    if re.search(exp, filename):\n",
    "        f = os.path.join(dir, filename)\n",
    "        color_thief = ColorThief(f)\n",
    "        # get the dominant color\n",
    "        dominant_color = color_thief.get_color(quality=1)\n",
    "        #color_thief.get_palette(color_count=6)\n",
    "        num = filename.split('.')[0]\n",
    "        colors[num] = dominant_color\n"
   ]
  },
  {
   "cell_type": "code",
   "execution_count": null,
   "metadata": {},
   "outputs": [],
   "source": [
    "# COLOR THIEF make into pd df & merge w/ watercolors data\n",
    "colors_df = pd.DataFrame.from_dict(colors, orient = 'index').reset_index()\n",
    "colors_df.rename(columns={'index': 'accession_number', 0:'r', 1:'g', 2:'b'}, inplace=True)\n",
    "\n",
    "watercolors = wc.merge(colors_df)\n",
    "watercolors = watercolors[['accession_number', 'year', 'r', 'g', 'b' ]]\n",
    "watercolors.to_csv('../cleaned_data/watercolors.csv')"
   ]
  },
  {
   "cell_type": "code",
   "execution_count": null,
   "metadata": {},
   "outputs": [],
   "source": [
    "# colorgram! \n",
    "# Get (colorgram) color for watercolor artworks\n",
    "dir = '/Users/carolynliu/CAPP30239_FA22/final_project/pics'\n",
    "colors = {}\n",
    "for filename in os.listdir(dir):\n",
    "    exp = re.compile(\".jpg\")\n",
    "    if re.search(exp, filename):\n",
    "        f = os.path.join(dir, filename)\n",
    "        color_thief = ColorThief(f)\n",
    "        # get 3 colors\n",
    "        c = colorgram.extract(f, 3)\n",
    "        num = filename.split('.')[0]\n",
    "        colors[num] = c\n",
    "\n",
    "# make into pd df & merge w/ watercolors data\n",
    "colors_df = pd.DataFrame.from_dict(colors, orient = 'index').reset_index()\n",
    "\n",
    "# split columns to make data easier to use\n",
    "cols = ['rgb', 'prop']\n",
    "for i in range(3):\n",
    "    rgb = 'rgb' + str(i)\n",
    "    prop = 'prop' + str(i)\n",
    "    colors_df[rgb] = colors_df.apply(lambda row: tuple(row[i].rgb), axis=1)\n",
    "    colors_df[prop] = colors_df.apply(lambda row: row[i].proportion, axis=1)\n",
    "\n",
    "colors_df.rename(columns={'index': 'accession_number'}, inplace=True)\n",
    "\n",
    "watercolors_cg = wc.merge(colors_df)\n",
    "watercolors_cg = watercolors_cg[['accession_number', 'year', 'rgb0', 'prop0',\t'rgb1',\t'prop1', 'rgb2', 'prop2']]\n",
    "watercolors_cg.to_csv('../cleaned_data/watercolors_cg.csv')"
   ]
  }
 ],
 "metadata": {
  "kernelspec": {
   "display_name": "Python 3.9.12 64-bit",
   "language": "python",
   "name": "python3"
  },
  "language_info": {
   "codemirror_mode": {
    "name": "ipython",
    "version": 3
   },
   "file_extension": ".py",
   "mimetype": "text/x-python",
   "name": "python",
   "nbconvert_exporter": "python",
   "pygments_lexer": "ipython3",
   "version": "3.9.12"
  },
  "orig_nbformat": 4,
  "vscode": {
   "interpreter": {
    "hash": "b0fa6594d8f4cbf19f97940f81e996739fb7646882a419484c72d19e05852a7e"
   }
  }
 },
 "nbformat": 4,
 "nbformat_minor": 2
}
